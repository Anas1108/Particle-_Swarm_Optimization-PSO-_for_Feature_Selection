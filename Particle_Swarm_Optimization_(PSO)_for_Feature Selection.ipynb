{
 "cells": [
  {
   "cell_type": "code",
   "execution_count": 113,
   "metadata": {},
   "outputs": [],
   "source": [
    "from sklearn.linear_model import LogisticRegression\n",
    "from sklearn.model_selection import train_test_split\n",
    "from sklearn import preprocessing\n",
    "preprocessing.LabelEncoder()\n",
    "import random\n",
    "import numpy as np\n",
    "import warnings\n",
    "warnings.filterwarnings(\"ignore\")"
   ]
  },
  {
   "cell_type": "code",
   "execution_count": 114,
   "metadata": {},
   "outputs": [],
   "source": [
    "import pandas as pd\n",
    "pd.set_option(\"display.max_columns\", None)"
   ]
  },
  {
   "cell_type": "code",
   "execution_count": 115,
   "metadata": {},
   "outputs": [
    {
     "data": {
      "text/html": [
       "<div>\n",
       "<style scoped>\n",
       "    .dataframe tbody tr th:only-of-type {\n",
       "        vertical-align: middle;\n",
       "    }\n",
       "\n",
       "    .dataframe tbody tr th {\n",
       "        vertical-align: top;\n",
       "    }\n",
       "\n",
       "    .dataframe thead th {\n",
       "        text-align: right;\n",
       "    }\n",
       "</style>\n",
       "<table border=\"1\" class=\"dataframe\">\n",
       "  <thead>\n",
       "    <tr style=\"text-align: right;\">\n",
       "      <th></th>\n",
       "      <th>PatientId</th>\n",
       "      <th>EncounterId</th>\n",
       "      <th>DischargeDisposision</th>\n",
       "      <th>Gender</th>\n",
       "      <th>Race</th>\n",
       "      <th>DiabetesMellitus</th>\n",
       "      <th>ChronicKidneyDisease</th>\n",
       "      <th>Anemia</th>\n",
       "      <th>Depression</th>\n",
       "      <th>ChronicObstructivePulmonaryDisease</th>\n",
       "      <th>Age</th>\n",
       "      <th>ChronicDiseaseCount</th>\n",
       "      <th>LengthOfStay</th>\n",
       "      <th>EmergencyVisit</th>\n",
       "      <th>InpatientVisit</th>\n",
       "      <th>OutpatientVisit</th>\n",
       "      <th>TotalVisits</th>\n",
       "      <th>BMIMin</th>\n",
       "      <th>BMIMax</th>\n",
       "      <th>BMIMedian</th>\n",
       "      <th>BMIMean</th>\n",
       "      <th>BPDiastolicMin</th>\n",
       "      <th>BPDiastolicMax</th>\n",
       "      <th>BPDiastolicMedian</th>\n",
       "      <th>BPDiastolicMean</th>\n",
       "      <th>BPSystolicMin</th>\n",
       "      <th>BPSystolicMax</th>\n",
       "      <th>BPSystolicMedian</th>\n",
       "      <th>BPSystolicMean</th>\n",
       "      <th>TemperatureMin</th>\n",
       "      <th>TemperatureMax</th>\n",
       "      <th>TemperatureMedian</th>\n",
       "      <th>TemperatureMean</th>\n",
       "      <th>HeartRateMin</th>\n",
       "      <th>HeartRateMax</th>\n",
       "      <th>HeartRateMedian</th>\n",
       "      <th>HeartRateMean</th>\n",
       "      <th>PulseRateMin</th>\n",
       "      <th>PulseRateMax</th>\n",
       "      <th>PulseRateMedian</th>\n",
       "      <th>PulseRateMean</th>\n",
       "      <th>RespiratoryRateMin</th>\n",
       "      <th>RespiratoryRateMax</th>\n",
       "      <th>RespiratoryRateMedian</th>\n",
       "      <th>RespiratoryRateMean</th>\n",
       "      <th>ACEInhibitors</th>\n",
       "      <th>ARBs</th>\n",
       "      <th>BetaBlockers</th>\n",
       "      <th>Diuretics</th>\n",
       "      <th>TotalMedicine</th>\n",
       "      <th>CardiacTroponin</th>\n",
       "      <th>Hemoglobin</th>\n",
       "      <th>SerumSodium</th>\n",
       "      <th>SerumCreatinine</th>\n",
       "      <th>BNP</th>\n",
       "      <th>NT-proBNP</th>\n",
       "      <th>ReadmissionWithin_90Days</th>\n",
       "    </tr>\n",
       "  </thead>\n",
       "  <tbody>\n",
       "    <tr>\n",
       "      <th>0</th>\n",
       "      <td>4200412</td>\n",
       "      <td>199171333</td>\n",
       "      <td>Home</td>\n",
       "      <td>Male</td>\n",
       "      <td>White</td>\n",
       "      <td>DM</td>\n",
       "      <td>NaN</td>\n",
       "      <td>Anemia</td>\n",
       "      <td>NaN</td>\n",
       "      <td>COPD</td>\n",
       "      <td>58</td>\n",
       "      <td>18</td>\n",
       "      <td>3</td>\n",
       "      <td>16</td>\n",
       "      <td>8</td>\n",
       "      <td>21</td>\n",
       "      <td>45</td>\n",
       "      <td>51.48</td>\n",
       "      <td>51.48</td>\n",
       "      <td>51.48</td>\n",
       "      <td>51.48</td>\n",
       "      <td>0</td>\n",
       "      <td>0</td>\n",
       "      <td>0.0</td>\n",
       "      <td>0.000000</td>\n",
       "      <td>0</td>\n",
       "      <td>0</td>\n",
       "      <td>0.0</td>\n",
       "      <td>0.000000</td>\n",
       "      <td>0.00</td>\n",
       "      <td>0.0</td>\n",
       "      <td>0.00</td>\n",
       "      <td>0.000000</td>\n",
       "      <td>0</td>\n",
       "      <td>0</td>\n",
       "      <td>0.0</td>\n",
       "      <td>0.0</td>\n",
       "      <td>0</td>\n",
       "      <td>0</td>\n",
       "      <td>0.0</td>\n",
       "      <td>0.00000</td>\n",
       "      <td>0</td>\n",
       "      <td>0</td>\n",
       "      <td>0.0</td>\n",
       "      <td>0.000000</td>\n",
       "      <td>0</td>\n",
       "      <td>0</td>\n",
       "      <td>0</td>\n",
       "      <td>0</td>\n",
       "      <td>0</td>\n",
       "      <td>0.0</td>\n",
       "      <td>0.00</td>\n",
       "      <td>0.0</td>\n",
       "      <td>0.00</td>\n",
       "      <td>0.0</td>\n",
       "      <td>0.0</td>\n",
       "      <td>Yes</td>\n",
       "    </tr>\n",
       "    <tr>\n",
       "      <th>1</th>\n",
       "      <td>4055894</td>\n",
       "      <td>26704337</td>\n",
       "      <td>Home</td>\n",
       "      <td>Male</td>\n",
       "      <td>White</td>\n",
       "      <td>DM</td>\n",
       "      <td>CKD</td>\n",
       "      <td>Anemia</td>\n",
       "      <td>Depression</td>\n",
       "      <td>COPD</td>\n",
       "      <td>80</td>\n",
       "      <td>24</td>\n",
       "      <td>6</td>\n",
       "      <td>7</td>\n",
       "      <td>6</td>\n",
       "      <td>0</td>\n",
       "      <td>13</td>\n",
       "      <td>31.74</td>\n",
       "      <td>31.74</td>\n",
       "      <td>31.74</td>\n",
       "      <td>31.74</td>\n",
       "      <td>46</td>\n",
       "      <td>78</td>\n",
       "      <td>63.0</td>\n",
       "      <td>63.052632</td>\n",
       "      <td>78</td>\n",
       "      <td>150</td>\n",
       "      <td>106.0</td>\n",
       "      <td>109.080000</td>\n",
       "      <td>97.30</td>\n",
       "      <td>99.3</td>\n",
       "      <td>98.25</td>\n",
       "      <td>98.266667</td>\n",
       "      <td>57</td>\n",
       "      <td>89</td>\n",
       "      <td>68.0</td>\n",
       "      <td>68.0</td>\n",
       "      <td>0</td>\n",
       "      <td>0</td>\n",
       "      <td>0.0</td>\n",
       "      <td>0.00000</td>\n",
       "      <td>14</td>\n",
       "      <td>22</td>\n",
       "      <td>17.5</td>\n",
       "      <td>17.833333</td>\n",
       "      <td>2</td>\n",
       "      <td>0</td>\n",
       "      <td>1</td>\n",
       "      <td>5</td>\n",
       "      <td>8</td>\n",
       "      <td>0.0</td>\n",
       "      <td>0.00</td>\n",
       "      <td>0.0</td>\n",
       "      <td>1.54</td>\n",
       "      <td>0.0</td>\n",
       "      <td>0.0</td>\n",
       "      <td>No</td>\n",
       "    </tr>\n",
       "    <tr>\n",
       "      <th>2</th>\n",
       "      <td>4867407</td>\n",
       "      <td>60388216</td>\n",
       "      <td>Home</td>\n",
       "      <td>Male</td>\n",
       "      <td>White</td>\n",
       "      <td>DM</td>\n",
       "      <td>CKD</td>\n",
       "      <td>Anemia</td>\n",
       "      <td>NaN</td>\n",
       "      <td>COPD</td>\n",
       "      <td>63</td>\n",
       "      <td>11</td>\n",
       "      <td>8</td>\n",
       "      <td>3</td>\n",
       "      <td>2</td>\n",
       "      <td>0</td>\n",
       "      <td>5</td>\n",
       "      <td>0.00</td>\n",
       "      <td>0.00</td>\n",
       "      <td>0.00</td>\n",
       "      <td>0.00</td>\n",
       "      <td>0</td>\n",
       "      <td>0</td>\n",
       "      <td>0.0</td>\n",
       "      <td>0.000000</td>\n",
       "      <td>0</td>\n",
       "      <td>0</td>\n",
       "      <td>0.0</td>\n",
       "      <td>0.000000</td>\n",
       "      <td>0.00</td>\n",
       "      <td>0.0</td>\n",
       "      <td>0.00</td>\n",
       "      <td>0.000000</td>\n",
       "      <td>0</td>\n",
       "      <td>0</td>\n",
       "      <td>0.0</td>\n",
       "      <td>0.0</td>\n",
       "      <td>0</td>\n",
       "      <td>0</td>\n",
       "      <td>0.0</td>\n",
       "      <td>0.00000</td>\n",
       "      <td>0</td>\n",
       "      <td>0</td>\n",
       "      <td>0.0</td>\n",
       "      <td>0.000000</td>\n",
       "      <td>0</td>\n",
       "      <td>0</td>\n",
       "      <td>1</td>\n",
       "      <td>1</td>\n",
       "      <td>2</td>\n",
       "      <td>0.0</td>\n",
       "      <td>10.20</td>\n",
       "      <td>0.0</td>\n",
       "      <td>0.00</td>\n",
       "      <td>0.0</td>\n",
       "      <td>0.0</td>\n",
       "      <td>No</td>\n",
       "    </tr>\n",
       "    <tr>\n",
       "      <th>3</th>\n",
       "      <td>4058064</td>\n",
       "      <td>274642265</td>\n",
       "      <td>Hospice - Home</td>\n",
       "      <td>Female</td>\n",
       "      <td>White</td>\n",
       "      <td>DM</td>\n",
       "      <td>NaN</td>\n",
       "      <td>Anemia</td>\n",
       "      <td>NaN</td>\n",
       "      <td>COPD</td>\n",
       "      <td>73</td>\n",
       "      <td>8</td>\n",
       "      <td>4</td>\n",
       "      <td>8</td>\n",
       "      <td>4</td>\n",
       "      <td>0</td>\n",
       "      <td>12</td>\n",
       "      <td>20.55</td>\n",
       "      <td>20.55</td>\n",
       "      <td>20.55</td>\n",
       "      <td>20.55</td>\n",
       "      <td>115</td>\n",
       "      <td>115</td>\n",
       "      <td>115.0</td>\n",
       "      <td>115.000000</td>\n",
       "      <td>182</td>\n",
       "      <td>182</td>\n",
       "      <td>182.0</td>\n",
       "      <td>182.000000</td>\n",
       "      <td>97.70</td>\n",
       "      <td>97.7</td>\n",
       "      <td>97.70</td>\n",
       "      <td>97.700000</td>\n",
       "      <td>0</td>\n",
       "      <td>0</td>\n",
       "      <td>0.0</td>\n",
       "      <td>0.0</td>\n",
       "      <td>0</td>\n",
       "      <td>0</td>\n",
       "      <td>0.0</td>\n",
       "      <td>0.00000</td>\n",
       "      <td>22</td>\n",
       "      <td>22</td>\n",
       "      <td>22.0</td>\n",
       "      <td>22.000000</td>\n",
       "      <td>0</td>\n",
       "      <td>0</td>\n",
       "      <td>0</td>\n",
       "      <td>0</td>\n",
       "      <td>0</td>\n",
       "      <td>0.0</td>\n",
       "      <td>0.00</td>\n",
       "      <td>132.0</td>\n",
       "      <td>0.00</td>\n",
       "      <td>0.0</td>\n",
       "      <td>0.0</td>\n",
       "      <td>No</td>\n",
       "    </tr>\n",
       "    <tr>\n",
       "      <th>4</th>\n",
       "      <td>4150623</td>\n",
       "      <td>70000001557327</td>\n",
       "      <td>SNF</td>\n",
       "      <td>Female</td>\n",
       "      <td>White</td>\n",
       "      <td>NaN</td>\n",
       "      <td>NaN</td>\n",
       "      <td>Anemia</td>\n",
       "      <td>NaN</td>\n",
       "      <td>COPD</td>\n",
       "      <td>85</td>\n",
       "      <td>20</td>\n",
       "      <td>3</td>\n",
       "      <td>5</td>\n",
       "      <td>8</td>\n",
       "      <td>0</td>\n",
       "      <td>13</td>\n",
       "      <td>0.00</td>\n",
       "      <td>0.00</td>\n",
       "      <td>0.00</td>\n",
       "      <td>0.00</td>\n",
       "      <td>38</td>\n",
       "      <td>72</td>\n",
       "      <td>60.0</td>\n",
       "      <td>59.044118</td>\n",
       "      <td>91</td>\n",
       "      <td>159</td>\n",
       "      <td>122.5</td>\n",
       "      <td>124.863636</td>\n",
       "      <td>96.98</td>\n",
       "      <td>98.6</td>\n",
       "      <td>97.88</td>\n",
       "      <td>97.854286</td>\n",
       "      <td>0</td>\n",
       "      <td>0</td>\n",
       "      <td>0.0</td>\n",
       "      <td>0.0</td>\n",
       "      <td>71</td>\n",
       "      <td>110</td>\n",
       "      <td>93.0</td>\n",
       "      <td>91.47619</td>\n",
       "      <td>14</td>\n",
       "      <td>20</td>\n",
       "      <td>17.0</td>\n",
       "      <td>17.000000</td>\n",
       "      <td>0</td>\n",
       "      <td>0</td>\n",
       "      <td>0</td>\n",
       "      <td>0</td>\n",
       "      <td>0</td>\n",
       "      <td>0.0</td>\n",
       "      <td>7.26</td>\n",
       "      <td>0.0</td>\n",
       "      <td>0.00</td>\n",
       "      <td>0.0</td>\n",
       "      <td>0.0</td>\n",
       "      <td>No</td>\n",
       "    </tr>\n",
       "  </tbody>\n",
       "</table>\n",
       "</div>"
      ],
      "text/plain": [
       "   PatientId     EncounterId DischargeDisposision  Gender   Race  \\\n",
       "0    4200412       199171333                 Home    Male  White   \n",
       "1    4055894        26704337                 Home    Male  White   \n",
       "2    4867407        60388216                 Home    Male  White   \n",
       "3    4058064       274642265       Hospice - Home  Female  White   \n",
       "4    4150623  70000001557327                  SNF  Female  White   \n",
       "\n",
       "  DiabetesMellitus ChronicKidneyDisease  Anemia  Depression   \\\n",
       "0               DM                  NaN  Anemia          NaN   \n",
       "1               DM                  CKD  Anemia  Depression    \n",
       "2               DM                  CKD  Anemia          NaN   \n",
       "3               DM                  NaN  Anemia          NaN   \n",
       "4              NaN                  NaN  Anemia          NaN   \n",
       "\n",
       "  ChronicObstructivePulmonaryDisease  Age  ChronicDiseaseCount  LengthOfStay  \\\n",
       "0                               COPD   58                   18             3   \n",
       "1                               COPD   80                   24             6   \n",
       "2                               COPD   63                   11             8   \n",
       "3                               COPD   73                    8             4   \n",
       "4                               COPD   85                   20             3   \n",
       "\n",
       "   EmergencyVisit  InpatientVisit  OutpatientVisit  TotalVisits  BMIMin  \\\n",
       "0              16               8               21           45   51.48   \n",
       "1               7               6                0           13   31.74   \n",
       "2               3               2                0            5    0.00   \n",
       "3               8               4                0           12   20.55   \n",
       "4               5               8                0           13    0.00   \n",
       "\n",
       "   BMIMax  BMIMedian  BMIMean  BPDiastolicMin  BPDiastolicMax  \\\n",
       "0   51.48      51.48    51.48               0               0   \n",
       "1   31.74      31.74    31.74              46              78   \n",
       "2    0.00       0.00     0.00               0               0   \n",
       "3   20.55      20.55    20.55             115             115   \n",
       "4    0.00       0.00     0.00              38              72   \n",
       "\n",
       "   BPDiastolicMedian  BPDiastolicMean  BPSystolicMin  BPSystolicMax  \\\n",
       "0                0.0         0.000000              0              0   \n",
       "1               63.0        63.052632             78            150   \n",
       "2                0.0         0.000000              0              0   \n",
       "3              115.0       115.000000            182            182   \n",
       "4               60.0        59.044118             91            159   \n",
       "\n",
       "   BPSystolicMedian  BPSystolicMean  TemperatureMin  TemperatureMax  \\\n",
       "0               0.0        0.000000            0.00             0.0   \n",
       "1             106.0      109.080000           97.30            99.3   \n",
       "2               0.0        0.000000            0.00             0.0   \n",
       "3             182.0      182.000000           97.70            97.7   \n",
       "4             122.5      124.863636           96.98            98.6   \n",
       "\n",
       "   TemperatureMedian  TemperatureMean  HeartRateMin  HeartRateMax  \\\n",
       "0               0.00         0.000000             0             0   \n",
       "1              98.25        98.266667            57            89   \n",
       "2               0.00         0.000000             0             0   \n",
       "3              97.70        97.700000             0             0   \n",
       "4              97.88        97.854286             0             0   \n",
       "\n",
       "   HeartRateMedian  HeartRateMean  PulseRateMin  PulseRateMax  \\\n",
       "0              0.0            0.0             0             0   \n",
       "1             68.0           68.0             0             0   \n",
       "2              0.0            0.0             0             0   \n",
       "3              0.0            0.0             0             0   \n",
       "4              0.0            0.0            71           110   \n",
       "\n",
       "   PulseRateMedian  PulseRateMean  RespiratoryRateMin  RespiratoryRateMax  \\\n",
       "0              0.0        0.00000                   0                   0   \n",
       "1              0.0        0.00000                  14                  22   \n",
       "2              0.0        0.00000                   0                   0   \n",
       "3              0.0        0.00000                  22                  22   \n",
       "4             93.0       91.47619                  14                  20   \n",
       "\n",
       "   RespiratoryRateMedian  RespiratoryRateMean  ACEInhibitors  ARBs  \\\n",
       "0                    0.0             0.000000              0     0   \n",
       "1                   17.5            17.833333              2     0   \n",
       "2                    0.0             0.000000              0     0   \n",
       "3                   22.0            22.000000              0     0   \n",
       "4                   17.0            17.000000              0     0   \n",
       "\n",
       "   BetaBlockers  Diuretics  TotalMedicine  CardiacTroponin  Hemoglobin  \\\n",
       "0             0          0              0              0.0        0.00   \n",
       "1             1          5              8              0.0        0.00   \n",
       "2             1          1              2              0.0       10.20   \n",
       "3             0          0              0              0.0        0.00   \n",
       "4             0          0              0              0.0        7.26   \n",
       "\n",
       "   SerumSodium  SerumCreatinine  BNP  NT-proBNP ReadmissionWithin_90Days  \n",
       "0          0.0             0.00  0.0        0.0                      Yes  \n",
       "1          0.0             1.54  0.0        0.0                       No  \n",
       "2          0.0             0.00  0.0        0.0                       No  \n",
       "3        132.0             0.00  0.0        0.0                       No  \n",
       "4          0.0             0.00  0.0        0.0                       No  "
      ]
     },
     "execution_count": 115,
     "metadata": {},
     "output_type": "execute_result"
    }
   ],
   "source": [
    "'''Loading xlsx file and droping first row '''\n",
    "df = pd.read_excel(r\"Training_Data.xlsx\", header=[0])\n",
    "df.head()"
   ]
  },
  {
   "cell_type": "code",
   "execution_count": 116,
   "metadata": {},
   "outputs": [
    {
     "data": {
      "text/plain": [
       "(8481, 57)"
      ]
     },
     "execution_count": 116,
     "metadata": {},
     "output_type": "execute_result"
    }
   ],
   "source": [
    "df.shape"
   ]
  },
  {
   "cell_type": "code",
   "execution_count": 117,
   "metadata": {},
   "outputs": [],
   "source": [
    "'''droping rows of duplicate id'''\n",
    "df = df.drop_duplicates('PatientId', keep='last')"
   ]
  },
  {
   "cell_type": "code",
   "execution_count": 118,
   "metadata": {},
   "outputs": [
    {
     "name": "stdout",
     "output_type": "stream",
     "text": [
      "<class 'pandas.core.series.Series'>\n"
     ]
    }
   ],
   "source": [
    "print(type(df.isnull().sum()))"
   ]
  },
  {
   "cell_type": "code",
   "execution_count": 119,
   "metadata": {},
   "outputs": [
    {
     "name": "stdout",
     "output_type": "stream",
     "text": [
      "4 Race 37\n",
      "5 DiabetesMellitus 2197\n",
      "6 ChronicKidneyDisease 2318\n",
      "7 Anemia 1892\n",
      "8 Depression  2963\n",
      "9 ChronicObstructivePulmonaryDisease 2317\n"
     ]
    }
   ],
   "source": [
    "'''checking columns with NAN values'''\n",
    "for i,(j,k) in  enumerate(df.isnull().sum().iteritems()):\n",
    "    if k:\n",
    "        print(i,j,k)"
   ]
  },
  {
   "cell_type": "markdown",
   "metadata": {},
   "source": [
    "Filling Nan values in a Race column"
   ]
  },
  {
   "cell_type": "code",
   "execution_count": 120,
   "metadata": {},
   "outputs": [
    {
     "data": {
      "text/plain": [
       "White                                        3911\n",
       "Black or African American                     368\n",
       "Other Race                                    195\n",
       "Asian                                          28\n",
       "American Indian or Alaska Native               24\n",
       "UnKnown                                        18\n",
       "Native Hawaiian or Other Pacific Islander       1\n",
       "Name: Race, dtype: int64"
      ]
     },
     "execution_count": 120,
     "metadata": {},
     "output_type": "execute_result"
    }
   ],
   "source": [
    "df['Race'].value_counts()"
   ]
  },
  {
   "cell_type": "code",
   "execution_count": 121,
   "metadata": {},
   "outputs": [],
   "source": [
    "df['Race'] = df['Race'].fillna('White')"
   ]
  },
  {
   "cell_type": "markdown",
   "metadata": {},
   "source": [
    "Filling Nan values in a DiabetesMellitus column"
   ]
  },
  {
   "cell_type": "code",
   "execution_count": 122,
   "metadata": {},
   "outputs": [
    {
     "data": {
      "text/plain": [
       "DM    2385\n",
       "Name: DiabetesMellitus, dtype: int64"
      ]
     },
     "execution_count": 122,
     "metadata": {},
     "output_type": "execute_result"
    }
   ],
   "source": [
    "df['DiabetesMellitus'].value_counts()"
   ]
  },
  {
   "cell_type": "code",
   "execution_count": 123,
   "metadata": {},
   "outputs": [],
   "source": [
    "df['DiabetesMellitus'] = df['DiabetesMellitus'].fillna('DM')"
   ]
  },
  {
   "cell_type": "code",
   "execution_count": 124,
   "metadata": {},
   "outputs": [
    {
     "data": {
      "text/plain": [
       "0"
      ]
     },
     "execution_count": 124,
     "metadata": {},
     "output_type": "execute_result"
    }
   ],
   "source": [
    "df['DiabetesMellitus'].isnull().sum()"
   ]
  },
  {
   "cell_type": "code",
   "execution_count": 156,
   "metadata": {},
   "outputs": [],
   "source": [
    "col=[]\n",
    "for i in df['EncounterId']:\n",
    "    try:\n",
    "        s=''.join(filter(str.isdigit, i))\n",
    "        col.append(s)\n",
    "    except:\n",
    "        col.append(i)\n",
    "df['EncounterId']=col"
   ]
  },
  {
   "cell_type": "markdown",
   "metadata": {},
   "source": [
    "Filling Nan values in a ChronicKidneyDisease column"
   ]
  },
  {
   "cell_type": "code",
   "execution_count": 125,
   "metadata": {},
   "outputs": [
    {
     "data": {
      "text/plain": [
       "CKD    2264\n",
       "Name: ChronicKidneyDisease, dtype: int64"
      ]
     },
     "execution_count": 125,
     "metadata": {},
     "output_type": "execute_result"
    }
   ],
   "source": [
    "df['ChronicKidneyDisease'].value_counts()"
   ]
  },
  {
   "cell_type": "code",
   "execution_count": 126,
   "metadata": {},
   "outputs": [],
   "source": [
    "df['ChronicKidneyDisease'] = df['ChronicKidneyDisease'].fillna('CKD')"
   ]
  },
  {
   "cell_type": "code",
   "execution_count": 127,
   "metadata": {},
   "outputs": [
    {
     "data": {
      "text/plain": [
       "0"
      ]
     },
     "execution_count": 127,
     "metadata": {},
     "output_type": "execute_result"
    }
   ],
   "source": [
    "df['ChronicKidneyDisease'].isnull().sum()"
   ]
  },
  {
   "cell_type": "markdown",
   "metadata": {},
   "source": [
    "Filling Nan values in a Anemia column"
   ]
  },
  {
   "cell_type": "code",
   "execution_count": 128,
   "metadata": {},
   "outputs": [
    {
     "data": {
      "text/plain": [
       "Anemia    2690\n",
       "Name: Anemia, dtype: int64"
      ]
     },
     "execution_count": 128,
     "metadata": {},
     "output_type": "execute_result"
    }
   ],
   "source": [
    "df['Anemia'].value_counts()"
   ]
  },
  {
   "cell_type": "code",
   "execution_count": 129,
   "metadata": {},
   "outputs": [],
   "source": [
    "df['Anemia'] = df['Anemia'].fillna('Anemia')"
   ]
  },
  {
   "cell_type": "code",
   "execution_count": 142,
   "metadata": {},
   "outputs": [],
   "source": [
    "cols = [\"Race\", \"DiabetesMellitus\",\"ChronicKidneyDisease\", \"Anemia\",\"Depression\", \"ChronicObstructivePulmonaryDisease\",\"DischargeDisposision\", \"Gender\",\"ReadmissionWithin_90Days\"]"
   ]
  },
  {
   "cell_type": "code",
   "execution_count": 131,
   "metadata": {},
   "outputs": [
    {
     "data": {
      "text/plain": [
       "0"
      ]
     },
     "execution_count": 131,
     "metadata": {},
     "output_type": "execute_result"
    }
   ],
   "source": [
    "df['Anemia'].isnull().sum()"
   ]
  },
  {
   "cell_type": "markdown",
   "metadata": {},
   "source": [
    "Filling Nan values in a Depression column"
   ]
  },
  {
   "cell_type": "code",
   "execution_count": 132,
   "metadata": {},
   "outputs": [],
   "source": [
    "df = df.rename(columns={'Depression ': 'Depression'})"
   ]
  },
  {
   "cell_type": "code",
   "execution_count": 133,
   "metadata": {},
   "outputs": [
    {
     "data": {
      "text/plain": [
       "Depression     1619\n",
       "Name: Depression, dtype: int64"
      ]
     },
     "execution_count": 133,
     "metadata": {},
     "output_type": "execute_result"
    }
   ],
   "source": [
    "df['Depression'].value_counts()"
   ]
  },
  {
   "cell_type": "code",
   "execution_count": 134,
   "metadata": {},
   "outputs": [],
   "source": [
    "df['Depression'] = df['Depression'].fillna('Depression')"
   ]
  },
  {
   "cell_type": "code",
   "execution_count": 135,
   "metadata": {},
   "outputs": [
    {
     "data": {
      "text/plain": [
       "0"
      ]
     },
     "execution_count": 135,
     "metadata": {},
     "output_type": "execute_result"
    }
   ],
   "source": [
    "df['Depression'].isnull().sum()"
   ]
  },
  {
   "cell_type": "markdown",
   "metadata": {},
   "source": [
    "Filling Nan values in a ChronicObstructivePulmonaryDisease column"
   ]
  },
  {
   "cell_type": "code",
   "execution_count": 136,
   "metadata": {},
   "outputs": [
    {
     "data": {
      "text/plain": [
       "COPD    2265\n",
       "Name: ChronicObstructivePulmonaryDisease, dtype: int64"
      ]
     },
     "execution_count": 136,
     "metadata": {},
     "output_type": "execute_result"
    }
   ],
   "source": [
    "df['ChronicObstructivePulmonaryDisease'].value_counts()"
   ]
  },
  {
   "cell_type": "code",
   "execution_count": 137,
   "metadata": {},
   "outputs": [],
   "source": [
    "df['ChronicObstructivePulmonaryDisease'] = df['ChronicObstructivePulmonaryDisease'].fillna('COPD')"
   ]
  },
  {
   "cell_type": "code",
   "execution_count": 138,
   "metadata": {},
   "outputs": [
    {
     "data": {
      "text/plain": [
       "0"
      ]
     },
     "execution_count": 138,
     "metadata": {},
     "output_type": "execute_result"
    }
   ],
   "source": [
    "df['ChronicObstructivePulmonaryDisease'].isnull().sum()"
   ]
  },
  {
   "cell_type": "markdown",
   "metadata": {},
   "source": [
    "No more NaN value left"
   ]
  },
  {
   "cell_type": "code",
   "execution_count": 139,
   "metadata": {},
   "outputs": [
    {
     "data": {
      "text/plain": [
       "0"
      ]
     },
     "execution_count": 139,
     "metadata": {},
     "output_type": "execute_result"
    }
   ],
   "source": [
    "df.isnull().sum().sum()"
   ]
  },
  {
   "cell_type": "markdown",
   "metadata": {},
   "source": [
    "Remaining Dtaset after Preprocessing"
   ]
  },
  {
   "cell_type": "code",
   "execution_count": 140,
   "metadata": {},
   "outputs": [
    {
     "data": {
      "text/plain": [
       "(4582, 57)"
      ]
     },
     "execution_count": 140,
     "metadata": {},
     "output_type": "execute_result"
    }
   ],
   "source": [
    "df.shape"
   ]
  },
  {
   "cell_type": "code",
   "execution_count": 143,
   "metadata": {},
   "outputs": [],
   "source": [
    "le=preprocessing.LabelEncoder()\n",
    "for i in cols:\n",
    "    df[i]=le.fit_transform(list(df[i]))\n",
    "    "
   ]
  },
  {
   "cell_type": "markdown",
   "metadata": {},
   "source": [
    "Converting  y Label from 'yes', 'no' to numeric for of 1 and 0 respectively"
   ]
  },
  {
   "cell_type": "code",
   "execution_count": 144,
   "metadata": {},
   "outputs": [],
   "source": [
    "for i in range(len(df['ReadmissionWithin_90Days'])):\n",
    "    if df['ReadmissionWithin_90Days'].iloc[i]=='Yes':\n",
    "        df['ReadmissionWithin_90Days'].iloc[i]=1\n",
    "    elif df['ReadmissionWithin_90Days'].iloc[i]=='No':\n",
    "        df['ReadmissionWithin_90Days'].iloc[i]=0"
   ]
  },
  {
   "cell_type": "code",
   "execution_count": 145,
   "metadata": {},
   "outputs": [],
   "source": [
    "y= df['ReadmissionWithin_90Days']\n",
    "y=y.astype('int')"
   ]
  },
  {
   "cell_type": "markdown",
   "metadata": {},
   "source": [
    "Function that takes dataset as input and return accuracy "
   ]
  },
  {
   "cell_type": "code",
   "execution_count": 151,
   "metadata": {},
   "outputs": [],
   "source": [
    "def calaculate_accuracy(x):\n",
    "    X=df[x]\n",
    "    X_train, X_test, y_train, y_test = train_test_split(X, y, test_size= 0.33, random_state=30)\n",
    "    lgt_R = LogisticRegression(random_state = 101, solver='lbfgs', multi_class='auto')\n",
    "    lgt_R.fit(X_train, y_train)\n",
    "    accuracy=lgt_R.score(X_test,y_test)\n",
    "    print('Accuracy:',accuracy)\n",
    "    return accuracy"
   ]
  },
  {
   "cell_type": "markdown",
   "metadata": {},
   "source": [
    "create a list of all the columns name except the last column 'ReadmissionWithin_90Days' , which is assighned as label"
   ]
  },
  {
   "cell_type": "code",
   "execution_count": 152,
   "metadata": {},
   "outputs": [],
   "source": [
    "columnsName=df.drop(labels= 'ReadmissionWithin_90Days', axis= 1).columns.values.tolist()"
   ]
  },
  {
   "cell_type": "markdown",
   "metadata": {},
   "source": [
    "create 10 different chromosomes each having 30 different columns name"
   ]
  },
  {
   "cell_type": "code",
   "execution_count": 153,
   "metadata": {},
   "outputs": [],
   "source": [
    "columnsName1=[0,1]\n",
    "chromosomes=[]\n",
    "for i in range(10):\n",
    "    chro1=[]\n",
    "    for i in range(56):\n",
    "        item = random.choice(tuple(columnsName1))\n",
    "        chro1.append(item)\n",
    "    chromosomes.append(chro1)"
   ]
  },
  {
   "cell_type": "code",
   "execution_count": 154,
   "metadata": {},
   "outputs": [],
   "source": [
    "def data(chromosomes1):\n",
    "    chromosomes2=[]\n",
    "    for i in range(len(chromosomes1)):\n",
    "        if chromosomes1[i]!=1:\n",
    "                chromosomes2.append(columnsName[i])\n",
    "    return chromosomes2"
   ]
  },
  {
   "cell_type": "markdown",
   "metadata": {},
   "source": [
    "# Calculations "
   ]
  },
  {
   "cell_type": "code",
   "execution_count": 157,
   "metadata": {},
   "outputs": [
    {
     "name": "stdout",
     "output_type": "stream",
     "text": [
      "Accuracy: 0.8202247191011236\n",
      "Accuracy: 0.8195637805684072\n",
      "Accuracy: 0.8202247191011236\n",
      "Accuracy: 0.8189028420356906\n",
      "Accuracy: 0.8169200264375414\n",
      "Accuracy: 0.8202247191011236\n",
      "Accuracy: 0.8202247191011236\n",
      "Accuracy: 0.8202247191011236\n",
      "Accuracy: 0.8202247191011236\n",
      "Accuracy: 0.8189028420356906\n"
     ]
    }
   ],
   "source": [
    "pb=[]\n",
    "def checkpersonalnest():\n",
    "    for i in range(len(chromosomes)):\n",
    "         pb.append(calaculate_accuracy(data(chromosomes[i])))\n",
    "checkpersonalnest()"
   ]
  },
  {
   "cell_type": "code",
   "execution_count": 173,
   "metadata": {},
   "outputs": [],
   "source": [
    "def checkvelocity(globalbest):\n",
    "    velocity=[]\n",
    "    for j in range(len(chromosomes)):\n",
    "        velocity.append(list(0+1*(np.random.random(1)[0])*(np.array(chromosomes[j])-np.array(chromosomes[j]))+1*(np.random.random(1)[0])*(np.array(globalbest)-np.array(chromosomes[j]))))\n",
    "    #print(velocity)\n",
    "    return velocity"
   ]
  },
  {
   "cell_type": "code",
   "execution_count": 159,
   "metadata": {},
   "outputs": [],
   "source": [
    "def addingchromosomes(velocity):\n",
    "    chromosomes2=[]\n",
    "    for i in range(len(velocity)):\n",
    "        nextchromo=[]\n",
    "        for j in range(len(velocity[i])):\n",
    "            nextchromo.append(chromosomes[i][j]+velocity[i][j])\n",
    "        chromosomes2.append(nextchromo)\n",
    "    return chromosomes2"
   ]
  },
  {
   "cell_type": "code",
   "execution_count": 160,
   "metadata": {},
   "outputs": [],
   "source": [
    "def normalize(chromosomes2):\n",
    "    for l in range(len(chromosomes2)):\n",
    "        for m in range(len(chromosomes2[l])):\n",
    "            if chromosomes2[l][m]>0.5:\n",
    "                chromosomes2[l][m]=1\n",
    "            else:\n",
    "                chromosomes2[l][m]=0\n",
    "    return chromosomes2"
   ]
  },
  {
   "cell_type": "code",
   "execution_count": 161,
   "metadata": {},
   "outputs": [],
   "source": [
    "def checkpd(chromosomes2):\n",
    "    personal=[]\n",
    "    for i in range(len(chromosomes2)):\n",
    "        personal.append(calaculate_accuracy(data(chromosomes2[i])))\n",
    "    for j in range(len(personal)):\n",
    "        if(personal[j]>pb[j]):\n",
    "            chromosomes[j]=chromosomes2[j]\n",
    "            pb[j]=personal[j]\n",
    "    return personal"
   ]
  },
  {
   "cell_type": "code",
   "execution_count": 176,
   "metadata": {},
   "outputs": [
    {
     "name": "stdout",
     "output_type": "stream",
     "text": [
      "Accuracy: 0.8202247191011236\n",
      "Accuracy: 0.8202247191011236\n",
      "Accuracy: 0.8202247191011236\n",
      "Accuracy: 0.8202247191011236\n",
      "Accuracy: 0.8202247191011236\n",
      "Accuracy: 0.8202247191011236\n",
      "Accuracy: 0.8202247191011236\n",
      "Accuracy: 0.8202247191011236\n",
      "Accuracy: 0.8202247191011236\n",
      "Accuracy: 0.8202247191011236\n",
      "Accuracy: 0.8202247191011236\n",
      "Accuracy: 0.8202247191011236\n",
      "Accuracy: 0.8202247191011236\n",
      "Accuracy: 0.8202247191011236\n",
      "Accuracy: 0.8202247191011236\n",
      "Accuracy: 0.8202247191011236\n",
      "Accuracy: 0.8202247191011236\n",
      "Accuracy: 0.8202247191011236\n",
      "Accuracy: 0.8202247191011236\n",
      "Accuracy: 0.8202247191011236\n",
      "Accuracy: 0.8202247191011236\n",
      "Accuracy: 0.8202247191011236\n",
      "Accuracy: 0.8202247191011236\n",
      "Accuracy: 0.8202247191011236\n",
      "Accuracy: 0.8202247191011236\n",
      "Accuracy: 0.8202247191011236\n",
      "Accuracy: 0.8202247191011236\n",
      "Accuracy: 0.8202247191011236\n",
      "Accuracy: 0.8202247191011236\n",
      "Accuracy: 0.8202247191011236\n",
      "Accuracy: 0.8202247191011236\n",
      "Accuracy: 0.8202247191011236\n",
      "Accuracy: 0.8202247191011236\n",
      "Accuracy: 0.8202247191011236\n",
      "Accuracy: 0.8202247191011236\n",
      "Accuracy: 0.8202247191011236\n",
      "Accuracy: 0.8202247191011236\n",
      "Accuracy: 0.8202247191011236\n",
      "Accuracy: 0.8202247191011236\n",
      "Accuracy: 0.8202247191011236\n",
      "Accuracy: 0.8202247191011236\n",
      "Accuracy: 0.8202247191011236\n",
      "Accuracy: 0.8202247191011236\n",
      "Accuracy: 0.8202247191011236\n",
      "Accuracy: 0.8202247191011236\n",
      "Accuracy: 0.8202247191011236\n",
      "Accuracy: 0.8202247191011236\n",
      "Accuracy: 0.8202247191011236\n",
      "Accuracy: 0.8202247191011236\n",
      "Accuracy: 0.8202247191011236\n",
      "Accuracy: 0.8202247191011236\n",
      "Accuracy: 0.8202247191011236\n",
      "Accuracy: 0.8202247191011236\n",
      "Accuracy: 0.8202247191011236\n",
      "Accuracy: 0.8202247191011236\n",
      "Accuracy: 0.8202247191011236\n",
      "Accuracy: 0.8202247191011236\n",
      "Accuracy: 0.8202247191011236\n",
      "Accuracy: 0.8202247191011236\n",
      "Accuracy: 0.8202247191011236\n",
      "Accuracy: 0.8202247191011236\n",
      "Accuracy: 0.8202247191011236\n",
      "Accuracy: 0.8202247191011236\n",
      "Accuracy: 0.8202247191011236\n",
      "Accuracy: 0.8202247191011236\n",
      "Accuracy: 0.8202247191011236\n",
      "Accuracy: 0.8202247191011236\n",
      "Accuracy: 0.8202247191011236\n",
      "Accuracy: 0.8202247191011236\n",
      "Accuracy: 0.8202247191011236\n",
      "Accuracy: 0.8202247191011236\n",
      "Accuracy: 0.8202247191011236\n",
      "Accuracy: 0.8202247191011236\n",
      "Accuracy: 0.8202247191011236\n",
      "Accuracy: 0.8202247191011236\n",
      "Accuracy: 0.8202247191011236\n",
      "Accuracy: 0.8202247191011236\n",
      "Accuracy: 0.8202247191011236\n",
      "Accuracy: 0.8202247191011236\n",
      "Accuracy: 0.8202247191011236\n",
      "Accuracy: 0.8202247191011236\n",
      "Accuracy: 0.8202247191011236\n",
      "Accuracy: 0.8202247191011236\n",
      "Accuracy: 0.8202247191011236\n",
      "Accuracy: 0.8202247191011236\n",
      "Accuracy: 0.8202247191011236\n",
      "Accuracy: 0.8202247191011236\n",
      "Accuracy: 0.8202247191011236\n",
      "Accuracy: 0.8202247191011236\n",
      "Accuracy: 0.8202247191011236\n",
      "Accuracy: 0.8202247191011236\n",
      "Accuracy: 0.8202247191011236\n",
      "Accuracy: 0.8202247191011236\n",
      "Accuracy: 0.8202247191011236\n",
      "Accuracy: 0.8202247191011236\n",
      "Accuracy: 0.8202247191011236\n",
      "Accuracy: 0.8202247191011236\n",
      "Accuracy: 0.8202247191011236\n",
      "Accuracy: 0.8202247191011236\n",
      "Accuracy: 0.8202247191011236\n"
     ]
    }
   ],
   "source": [
    "max(pb)\n",
    "ind = pb.index(max(pb))\n",
    "globalbest=chromosomes[ind]\n",
    "for i in range(10):\n",
    "    chromosomes2=[]\n",
    "    personal=[]\n",
    "    velocity=checkvelocity(globalbest)\n",
    "    chromosomes2=addingchromosomes(velocity)\n",
    "    chromosomes2=normalize(chromosomes2)\n",
    "    personal=checkpd(chromosomes2)\n",
    "    globalbest=[]\n",
    "    max(pb)\n",
    "    ind = pb.index(max(pb))\n",
    "    globalbest=chromosomes[ind]\n",
    "                \n",
    "    \n",
    "    "
   ]
  },
  {
   "cell_type": "code",
   "execution_count": 177,
   "metadata": {},
   "outputs": [
    {
     "data": {
      "text/plain": [
       "0.8202247191011236"
      ]
     },
     "execution_count": 177,
     "metadata": {},
     "output_type": "execute_result"
    }
   ],
   "source": [
    "max(pb)"
   ]
  },
  {
   "cell_type": "code",
   "execution_count": 178,
   "metadata": {},
   "outputs": [],
   "source": [
    "ind = pb.index(max(pb))\n",
    "globalbest=chromosomes[ind]"
   ]
  },
  {
   "cell_type": "code",
   "execution_count": 181,
   "metadata": {},
   "outputs": [
    {
     "name": "stdout",
     "output_type": "stream",
     "text": [
      "['PatientId', 'Race', 'Anemia', 'ChronicDiseaseCount', 'EmergencyVisit', 'TotalVisits', 'BMIMin', 'BMIMedian', 'BMIMean', 'BPDiastolicMin', 'TemperatureMin', 'TemperatureMax', 'TemperatureMean', 'HeartRateMean', 'PulseRateMin', 'RespiratoryRateMin', 'ARBs', 'Diuretics', 'CardiacTroponin', 'Hemoglobin', 'SerumCreatinine']\n"
     ]
    }
   ],
   "source": [
    "print(data(globalbest))"
   ]
  },
  {
   "cell_type": "code",
   "execution_count": null,
   "metadata": {},
   "outputs": [],
   "source": []
  }
 ],
 "metadata": {
  "kernelspec": {
   "display_name": "Python 3",
   "language": "python",
   "name": "python3"
  },
  "language_info": {
   "codemirror_mode": {
    "name": "ipython",
    "version": 3
   },
   "file_extension": ".py",
   "mimetype": "text/x-python",
   "name": "python",
   "nbconvert_exporter": "python",
   "pygments_lexer": "ipython3",
   "version": "3.8.3"
  }
 },
 "nbformat": 4,
 "nbformat_minor": 5
}
